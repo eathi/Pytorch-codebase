{
  "nbformat": 4,
  "nbformat_minor": 0,
  "metadata": {
    "colab": {
      "provenance": [],
      "authorship_tag": "ABX9TyOPDyXwJpbb0WV2g2G439ZJ",
      "include_colab_link": true
    },
    "kernelspec": {
      "name": "python3",
      "display_name": "Python 3"
    },
    "language_info": {
      "name": "python"
    }
  },
  "cells": [
    {
      "cell_type": "markdown",
      "metadata": {
        "id": "view-in-github",
        "colab_type": "text"
      },
      "source": [
        "<a href=\"https://colab.research.google.com/github/eathi/Pytorch-codebase/blob/main/Tensor_Operations_20_11_2023.ipynb\" target=\"_parent\"><img src=\"https://colab.research.google.com/assets/colab-badge.svg\" alt=\"Open In Colab\"/></a>"
      ]
    },
    {
      "cell_type": "code",
      "execution_count": 1,
      "metadata": {
        "id": "WPJqTsJyu1qB"
      },
      "outputs": [],
      "source": [
        "import torch"
      ]
    },
    {
      "cell_type": "code",
      "source": [
        "my_tensor = torch.arange(10)\n",
        "my_tensor"
      ],
      "metadata": {
        "colab": {
          "base_uri": "https://localhost:8080/"
        },
        "id": "d51jEeaxu9_D",
        "outputId": "cb7f3dd0-07c5-42f7-c47d-f791051a5969"
      },
      "execution_count": 3,
      "outputs": [
        {
          "output_type": "execute_result",
          "data": {
            "text/plain": [
              "tensor([0, 1, 2, 3, 4, 5, 6, 7, 8, 9])"
            ]
          },
          "metadata": {},
          "execution_count": 3
        }
      ]
    },
    {
      "cell_type": "markdown",
      "source": [
        "RESHAPE and VIEW similar to numpy array"
      ],
      "metadata": {
        "id": "x0IWs1gkvz_h"
      }
    },
    {
      "cell_type": "code",
      "source": [
        "#reshape\n",
        "my_tensor=my_tensor.reshape(5,2)\n",
        "my_tensor"
      ],
      "metadata": {
        "colab": {
          "base_uri": "https://localhost:8080/"
        },
        "id": "7UcWVGGDvB7l",
        "outputId": "fba10d8b-b0f1-4cd0-a2eb-84694dbb6e92"
      },
      "execution_count": 7,
      "outputs": [
        {
          "output_type": "execute_result",
          "data": {
            "text/plain": [
              "tensor([[0, 1],\n",
              "        [2, 3],\n",
              "        [4, 5],\n",
              "        [6, 7],\n",
              "        [8, 9]])"
            ]
          },
          "metadata": {},
          "execution_count": 7
        }
      ]
    },
    {
      "cell_type": "code",
      "source": [
        "#reshape if we don't know the number of items using -1\n",
        "\n",
        "my_tensor_2=my_tensor.reshape(10,-1)\n",
        "my_tensor_2"
      ],
      "metadata": {
        "colab": {
          "base_uri": "https://localhost:8080/"
        },
        "id": "yuD4-u18wGEN",
        "outputId": "816ef1ac-887c-48b4-ae87-e60b3539e777"
      },
      "execution_count": 11,
      "outputs": [
        {
          "output_type": "execute_result",
          "data": {
            "text/plain": [
              "tensor([[0],\n",
              "        [1],\n",
              "        [2],\n",
              "        [3],\n",
              "        [4],\n",
              "        [5],\n",
              "        [6],\n",
              "        [7],\n",
              "        [8],\n",
              "        [9]])"
            ]
          },
          "metadata": {},
          "execution_count": 11
        }
      ]
    },
    {
      "cell_type": "code",
      "source": [
        "#reshape if we don't know the number of items using -1\n",
        "\n",
        "my_tensor_2=my_tensor.reshape(-1,10)\n",
        "my_tensor_2"
      ],
      "metadata": {
        "colab": {
          "base_uri": "https://localhost:8080/"
        },
        "id": "UlHxT7o_w41j",
        "outputId": "af31cee7-7ec5-4cc7-8160-f04d9c311043"
      },
      "execution_count": 12,
      "outputs": [
        {
          "output_type": "execute_result",
          "data": {
            "text/plain": [
              "tensor([[0, 1, 2, 3, 4, 5, 6, 7, 8, 9]])"
            ]
          },
          "metadata": {},
          "execution_count": 12
        }
      ]
    },
    {
      "cell_type": "code",
      "source": [
        "my_tensor_3 = torch.arange(30)\n",
        "my_tensor_3"
      ],
      "metadata": {
        "colab": {
          "base_uri": "https://localhost:8080/"
        },
        "id": "x7GACHOAxDvr",
        "outputId": "b082b4b6-9243-49fe-f373-e52847747eb8"
      },
      "execution_count": 13,
      "outputs": [
        {
          "output_type": "execute_result",
          "data": {
            "text/plain": [
              "tensor([ 0,  1,  2,  3,  4,  5,  6,  7,  8,  9, 10, 11, 12, 13, 14, 15, 16, 17,\n",
              "        18, 19, 20, 21, 22, 23, 24, 25, 26, 27, 28, 29])"
            ]
          },
          "metadata": {},
          "execution_count": 13
        }
      ]
    },
    {
      "cell_type": "code",
      "source": [
        "my_tensor_3=my_tensor_3.reshape(-1,10)\n",
        "my_tensor_3\n"
      ],
      "metadata": {
        "colab": {
          "base_uri": "https://localhost:8080/"
        },
        "id": "I-NPfUVGxPUd",
        "outputId": "7428cded-c762-4592-bc0e-224bdd847f64"
      },
      "execution_count": 14,
      "outputs": [
        {
          "output_type": "execute_result",
          "data": {
            "text/plain": [
              "tensor([[ 0,  1,  2,  3,  4,  5,  6,  7,  8,  9],\n",
              "        [10, 11, 12, 13, 14, 15, 16, 17, 18, 19],\n",
              "        [20, 21, 22, 23, 24, 25, 26, 27, 28, 29]])"
            ]
          },
          "metadata": {},
          "execution_count": 14
        }
      ]
    },
    {
      "cell_type": "code",
      "source": [
        "my_tensor_3=my_tensor_3.reshape(10,-1)\n",
        "my_tensor_3\n"
      ],
      "metadata": {
        "colab": {
          "base_uri": "https://localhost:8080/"
        },
        "id": "3CEESTvoxYzD",
        "outputId": "7e961388-5046-41da-9f79-af5202a2d447"
      },
      "execution_count": 15,
      "outputs": [
        {
          "output_type": "execute_result",
          "data": {
            "text/plain": [
              "tensor([[ 0,  1,  2],\n",
              "        [ 3,  4,  5],\n",
              "        [ 6,  7,  8],\n",
              "        [ 9, 10, 11],\n",
              "        [12, 13, 14],\n",
              "        [15, 16, 17],\n",
              "        [18, 19, 20],\n",
              "        [21, 22, 23],\n",
              "        [24, 25, 26],\n",
              "        [27, 28, 29]])"
            ]
          },
          "metadata": {},
          "execution_count": 15
        }
      ]
    },
    {
      "cell_type": "code",
      "source": [
        "my_tensor_4=torch.arange(30)\n",
        "my_tensor_4=my_tensor_4.view(10,-1)\n",
        "my_tensor_4\n"
      ],
      "metadata": {
        "colab": {
          "base_uri": "https://localhost:8080/"
        },
        "id": "Fl4Oliavxc7Q",
        "outputId": "83c2d793-632c-4997-f999-4ab36b6424dd"
      },
      "execution_count": 16,
      "outputs": [
        {
          "output_type": "execute_result",
          "data": {
            "text/plain": [
              "tensor([[ 0,  1,  2],\n",
              "        [ 3,  4,  5],\n",
              "        [ 6,  7,  8],\n",
              "        [ 9, 10, 11],\n",
              "        [12, 13, 14],\n",
              "        [15, 16, 17],\n",
              "        [18, 19, 20],\n",
              "        [21, 22, 23],\n",
              "        [24, 25, 26],\n",
              "        [27, 28, 29]])"
            ]
          },
          "metadata": {},
          "execution_count": 16
        }
      ]
    },
    {
      "cell_type": "code",
      "source": [
        "my_tensor_4[9]=3030\n",
        "my_tensor_4"
      ],
      "metadata": {
        "colab": {
          "base_uri": "https://localhost:8080/"
        },
        "id": "_WbcBSu6zY6U",
        "outputId": "dbc92ed6-b3d8-4148-cb13-5429ba1aec6b"
      },
      "execution_count": 18,
      "outputs": [
        {
          "output_type": "execute_result",
          "data": {
            "text/plain": [
              "tensor([[   0,    1,    2],\n",
              "        [   3,    4,    5],\n",
              "        [   6,    7,    8],\n",
              "        [   9,   10,   11],\n",
              "        [  12,   13,   14],\n",
              "        [  15,   16,   17],\n",
              "        [  18,   19,   20],\n",
              "        [  21,   22,   23],\n",
              "        [  24,   25,   26],\n",
              "        [3030, 3030, 3030]])"
            ]
          },
          "metadata": {},
          "execution_count": 18
        }
      ]
    },
    {
      "cell_type": "code",
      "source": [
        "my_tensor_5=torch.arange(30)\n",
        "my_tensor_5"
      ],
      "metadata": {
        "colab": {
          "base_uri": "https://localhost:8080/"
        },
        "id": "zphGXlTgzkxa",
        "outputId": "4529b76a-5446-4d80-eaeb-56ea9e8bf911"
      },
      "execution_count": 20,
      "outputs": [
        {
          "output_type": "execute_result",
          "data": {
            "text/plain": [
              "tensor([ 0,  1,  2,  3,  4,  5,  6,  7,  8,  9, 10, 11, 12, 13, 14, 15, 16, 17,\n",
              "        18, 19, 20, 21, 22, 23, 24, 25, 26, 27, 28, 29])"
            ]
          },
          "metadata": {},
          "execution_count": 20
        }
      ]
    },
    {
      "cell_type": "code",
      "source": [
        "my_tensor_5[0]=3030\n",
        "my_tensor_5"
      ],
      "metadata": {
        "colab": {
          "base_uri": "https://localhost:8080/"
        },
        "id": "bqfGAZguzx-M",
        "outputId": "79f51602-b2dc-4ebb-c557-0e2367c6c201"
      },
      "execution_count": 22,
      "outputs": [
        {
          "output_type": "execute_result",
          "data": {
            "text/plain": [
              "tensor([3030,    1,    2,    3,    4,    5,    6,    7,    8,    9,   10,   11,\n",
              "          12,   13,   14,   15,   16,   17,   18,   19,   20,   21,   22,   23,\n",
              "          24,   25,   26,   27,   28,   29])"
            ]
          },
          "metadata": {},
          "execution_count": 22
        }
      ]
    },
    {
      "cell_type": "code",
      "source": [
        "my_tensor_5[29]=2929\n",
        "my_tensor_5"
      ],
      "metadata": {
        "colab": {
          "base_uri": "https://localhost:8080/"
        },
        "id": "13bduIoyz9Gc",
        "outputId": "57706c1a-c90b-4e88-a9e8-6254dd3658d1"
      },
      "execution_count": 23,
      "outputs": [
        {
          "output_type": "execute_result",
          "data": {
            "text/plain": [
              "tensor([3030,    1,    2,    3,    4,    5,    6,    7,    8,    9,   10,   11,\n",
              "          12,   13,   14,   15,   16,   17,   18,   19,   20,   21,   22,   23,\n",
              "          24,   25,   26,   27,   28, 2929])"
            ]
          },
          "metadata": {},
          "execution_count": 23
        }
      ]
    },
    {
      "cell_type": "code",
      "source": [
        "my_tensor_5[29]"
      ],
      "metadata": {
        "colab": {
          "base_uri": "https://localhost:8080/"
        },
        "id": "43OT3wdJ0CHQ",
        "outputId": "4f82b8aa-c64d-4b4c-90f2-1aa0aef77918"
      },
      "execution_count": 25,
      "outputs": [
        {
          "output_type": "execute_result",
          "data": {
            "text/plain": [
              "tensor(2929)"
            ]
          },
          "metadata": {},
          "execution_count": 25
        }
      ]
    },
    {
      "cell_type": "markdown",
      "source": [
        "SLICING A TENSOR"
      ],
      "metadata": {
        "id": "xsn1gkVO0ggy"
      }
    },
    {
      "cell_type": "code",
      "source": [
        "my_tensor_5"
      ],
      "metadata": {
        "colab": {
          "base_uri": "https://localhost:8080/"
        },
        "id": "TqSdx5m00JU_",
        "outputId": "620bd0b7-b83e-4997-c3e3-9e2d7e7f30d3"
      },
      "execution_count": 26,
      "outputs": [
        {
          "output_type": "execute_result",
          "data": {
            "text/plain": [
              "tensor([3030,    1,    2,    3,    4,    5,    6,    7,    8,    9,   10,   11,\n",
              "          12,   13,   14,   15,   16,   17,   18,   19,   20,   21,   22,   23,\n",
              "          24,   25,   26,   27,   28, 2929])"
            ]
          },
          "metadata": {},
          "execution_count": 26
        }
      ]
    },
    {
      "cell_type": "code",
      "source": [
        "my_tensor_6=my_tensor_5.reshape(6,5)\n",
        "my_tensor_6"
      ],
      "metadata": {
        "colab": {
          "base_uri": "https://localhost:8080/"
        },
        "id": "qJ1NTSZ61xAV",
        "outputId": "abb4bde8-7739-409d-8d38-71b9dda3059b"
      },
      "execution_count": 28,
      "outputs": [
        {
          "output_type": "execute_result",
          "data": {
            "text/plain": [
              "tensor([[3030,    1,    2,    3,    4],\n",
              "        [   5,    6,    7,    8,    9],\n",
              "        [  10,   11,   12,   13,   14],\n",
              "        [  15,   16,   17,   18,   19],\n",
              "        [  20,   21,   22,   23,   24],\n",
              "        [  25,   26,   27,   28, 2929]])"
            ]
          },
          "metadata": {},
          "execution_count": 28
        }
      ]
    },
    {
      "cell_type": "code",
      "source": [
        "my_tensor_7=my_tensor_6[0:2,0:7]\n",
        "my_tensor_7"
      ],
      "metadata": {
        "colab": {
          "base_uri": "https://localhost:8080/"
        },
        "id": "6DEJx5qk14n7",
        "outputId": "cff1211c-c4b2-42b3-9bf5-32aab07f3d36"
      },
      "execution_count": 36,
      "outputs": [
        {
          "output_type": "execute_result",
          "data": {
            "text/plain": [
              "tensor([[3030,    1,    2,    3,    4],\n",
              "        [   5,    6,    7,    8,    9]])"
            ]
          },
          "metadata": {},
          "execution_count": 36
        }
      ]
    },
    {
      "cell_type": "code",
      "source": [
        "my_tensor_8=my_tensor_6[0:,1:]\n",
        "my_tensor_8"
      ],
      "metadata": {
        "colab": {
          "base_uri": "https://localhost:8080/"
        },
        "id": "CBbGI1eu2CxQ",
        "outputId": "24912075-ddf4-451d-c396-2f24a5940f0a"
      },
      "execution_count": 39,
      "outputs": [
        {
          "output_type": "execute_result",
          "data": {
            "text/plain": [
              "tensor([[   1,    2,    3,    4],\n",
              "        [   6,    7,    8,    9],\n",
              "        [  11,   12,   13,   14],\n",
              "        [  16,   17,   18,   19],\n",
              "        [  21,   22,   23,   24],\n",
              "        [  26,   27,   28, 2929]])"
            ]
          },
          "metadata": {},
          "execution_count": 39
        }
      ]
    },
    {
      "cell_type": "code",
      "source": [],
      "metadata": {
        "id": "6IpmjeAp2gkw"
      },
      "execution_count": null,
      "outputs": []
    }
  ]
}