{
  "nbformat": 4,
  "nbformat_minor": 0,
  "metadata": {
    "colab": {
      "provenance": [],
      "authorship_tag": "ABX9TyPrBED30KetjxderJWRuG1N",
      "include_colab_link": true
    },
    "kernelspec": {
      "name": "python3",
      "display_name": "Python 3"
    },
    "language_info": {
      "name": "python"
    }
  },
  "cells": [
    {
      "cell_type": "markdown",
      "metadata": {
        "id": "view-in-github",
        "colab_type": "text"
      },
      "source": [
        "<a href=\"https://colab.research.google.com/github/eathi/Pytorch-codebase/blob/main/oops_in_python.ipynb\" target=\"_parent\"><img src=\"https://colab.research.google.com/assets/colab-badge.svg\" alt=\"Open In Colab\"/></a>"
      ]
    },
    {
      "cell_type": "code",
      "source": [
        "hp=laptop()"
      ],
      "metadata": {
        "colab": {
          "base_uri": "https://localhost:8080/"
        },
        "id": "n_GgtPQQ3Ou2",
        "outputId": "f81169a9-ef84-4ff1-dcf2-33fd7ecda94f"
      },
      "execution_count": 25,
      "outputs": [
        {
          "output_type": "stream",
          "name": "stdout",
          "text": [
            "Constructor getting called automatically as soon as an object of class been created\n",
            "The main purpose of the constrctor is to assign values to its data members of the class\n"
          ]
        }
      ]
    },
    {
      "cell_type": "code",
      "source": [
        "dell=laptop()"
      ],
      "metadata": {
        "colab": {
          "base_uri": "https://localhost:8080/"
        },
        "id": "3IrJyg-93LWM",
        "outputId": "c2e6ef3b-3521-4ca0-fd34-cb14da20526a"
      },
      "execution_count": 24,
      "outputs": [
        {
          "output_type": "stream",
          "name": "stdout",
          "text": [
            "Constructor getting called automatically as soon as an object of class been created\n",
            "The main purpose of the constrctor is to assign values to its data members of the class\n"
          ]
        }
      ]
    },
    {
      "cell_type": "code",
      "execution_count": 23,
      "metadata": {
        "id": "n0swbDGn0BLl"
      },
      "outputs": [],
      "source": [
        "class laptop:\n",
        "  price=''\n",
        "  discount=''\n",
        "  brand=''\n",
        "  def __init__(self):\n",
        "    print('Constructor getting called automatically as soon as an object of class been created')\n",
        "    print('The main purpose of the constrctor is to assign values to its data members of the class')\n",
        "  def print_price(self,brand,price,discount):\n",
        "    print('The price of {} is {} and discount provided is {}'.format(brand,price,discount))\n"
      ]
    },
    {
      "cell_type": "code",
      "source": [
        "laptop.brand='lenovo'\n",
        "laptop.price='20000'\n",
        "laptop.discount='20%'"
      ],
      "metadata": {
        "id": "uuIGSdAX1JYD"
      },
      "execution_count": 10,
      "outputs": []
    },
    {
      "cell_type": "code",
      "source": [
        "laptop.print_price(0,laptop.brand,laptop.price,laptop.discount)"
      ],
      "metadata": {
        "colab": {
          "base_uri": "https://localhost:8080/"
        },
        "id": "LGHpAT0Y1QTU",
        "outputId": "88b3e359-269e-41f5-f894-2cefe7a1673e"
      },
      "execution_count": 12,
      "outputs": [
        {
          "output_type": "stream",
          "name": "stdout",
          "text": [
            "The price of lenovo is 20000 and discount provided is 20%\n"
          ]
        }
      ]
    },
    {
      "cell_type": "code",
      "source": [
        "class real_estate:\n",
        "\n",
        "  def __init__(self):\n",
        "    print('Constructor getting called automatically as soon as an object of class been created')\n",
        "    print('The main purpose of the constrctor is to assign values to its data members of the class')\n",
        "    self.price=''\n",
        "    self.discount=''\n",
        "    self.property_type=''\n",
        "    self.city=''\n",
        "  def print_price(self,property_type,city,price,discount):\n",
        "    print('The price of {} at {} is {} and discount provided is {}'.format(property_type,city,price,discount))\n"
      ],
      "metadata": {
        "id": "OtigW1yA1Xyy"
      },
      "execution_count": 31,
      "outputs": []
    },
    {
      "cell_type": "code",
      "source": [
        "TN=real_estate()\n",
        "TN.price='3500000'\n",
        "TN.discount='2%'\n",
        "TN.property_type='Commercial Rental Property'\n",
        "TN.city='Chennai'\n",
        "TN.print_price(TN.property_type,TN.city,TN.price,TN.discount)"
      ],
      "metadata": {
        "colab": {
          "base_uri": "https://localhost:8080/"
        },
        "id": "QTmreVPA5r7f",
        "outputId": "b117ff36-5516-4d30-b271-2b00dfa83d58"
      },
      "execution_count": 32,
      "outputs": [
        {
          "output_type": "stream",
          "name": "stdout",
          "text": [
            "Constructor getting called automatically as soon as an object of class been created\n",
            "The main purpose of the constrctor is to assign values to its data members of the class\n",
            "The price of Commercial Rental Property at Chennai is 3500000 and discount provided is 2%\n"
          ]
        }
      ]
    },
    {
      "cell_type": "code",
      "source": [
        "class real_estate:\n",
        "\n",
        "  def __init__(self):\n",
        "    print('Constructor getting called automatically as soon as an object of class been created')\n",
        "    print('The main purpose of the constrctor is to assign values to its data members of the class')\n",
        "    self.price=''\n",
        "    self.discount=''\n",
        "    self.property_type=''\n",
        "    self.city=''\n",
        "  def print_price(self):\n",
        "    print('The price of {} at {} is {} and discount provided is {}'.format(self.property_type,self.city,self.price,self.discount))\n"
      ],
      "metadata": {
        "id": "d5_itvur6HZy"
      },
      "execution_count": 34,
      "outputs": []
    },
    {
      "cell_type": "code",
      "source": [
        "AND=real_estate()\n",
        "AND.price='3600000'\n",
        "AND.discount='1%'\n",
        "AND.property_type='Commercial Rental Property'\n",
        "AND.city='Jubilee Hills'"
      ],
      "metadata": {
        "colab": {
          "base_uri": "https://localhost:8080/"
        },
        "id": "NG7h7Eg2I66a",
        "outputId": "05635642-fe2a-436a-9bfc-972a6339ce30"
      },
      "execution_count": 41,
      "outputs": [
        {
          "output_type": "stream",
          "name": "stdout",
          "text": [
            "Constructor getting called automatically as soon as an object of class been created\n",
            "The main purpose of the constrctor is to assign values to its data members of the class\n"
          ]
        }
      ]
    },
    {
      "cell_type": "code",
      "source": [
        "AND.print_price()"
      ],
      "metadata": {
        "colab": {
          "base_uri": "https://localhost:8080/"
        },
        "id": "BGL7gYrGJRLO",
        "outputId": "34529ad5-7538-429e-9870-3fb9513147bd"
      },
      "execution_count": 42,
      "outputs": [
        {
          "output_type": "stream",
          "name": "stdout",
          "text": [
            "The price of Commercial Rental Property at Jubilee Hills is 3600000 and discount provided is 1%\n"
          ]
        }
      ]
    },
    {
      "cell_type": "code",
      "source": [
        "KER=real_estate()\n",
        "KER.price='2500000'\n",
        "KER.discount='1%'\n",
        "KER.property_type='Housing property'\n",
        "KER.city='Kochi'"
      ],
      "metadata": {
        "colab": {
          "base_uri": "https://localhost:8080/"
        },
        "id": "QeNqwNAWJTUR",
        "outputId": "66ae9a2c-15a7-4ba4-b2d7-ecf81bb8e787"
      },
      "execution_count": 43,
      "outputs": [
        {
          "output_type": "stream",
          "name": "stdout",
          "text": [
            "Constructor getting called automatically as soon as an object of class been created\n",
            "The main purpose of the constrctor is to assign values to its data members of the class\n"
          ]
        }
      ]
    },
    {
      "cell_type": "code",
      "source": [
        "KER.print_price()"
      ],
      "metadata": {
        "colab": {
          "base_uri": "https://localhost:8080/"
        },
        "id": "gqeJpaW_K0Yc",
        "outputId": "4e72d8cd-6d95-4332-8d73-5198aad5194c"
      },
      "execution_count": 44,
      "outputs": [
        {
          "output_type": "stream",
          "name": "stdout",
          "text": [
            "The price of Housing property at Kochi is 2500000 and discount provided is 1%\n"
          ]
        }
      ]
    },
    {
      "cell_type": "code",
      "source": [
        "#code reusability and code maintainabiity is superb"
      ],
      "metadata": {
        "id": "3EF61cUnK2fJ"
      },
      "execution_count": 45,
      "outputs": []
    },
    {
      "cell_type": "code",
      "source": [
        "#EMPTY class with a placeholder like pass\n",
        "\n",
        "\n",
        "class simple:\n",
        "  pass"
      ],
      "metadata": {
        "id": "C0c4mkE1Lfe7"
      },
      "execution_count": 46,
      "outputs": []
    },
    {
      "cell_type": "code",
      "source": [
        "#class and object example:\n",
        "\n",
        "class student:\n",
        "  def __init__(self):\n",
        "    self.name=''\n",
        "    self.Reg_no=''\n",
        "  def display(self):\n",
        "    print('Name of student is {} and Register number is {}'.format(self.name,self.Reg_no))\n",
        "\n"
      ],
      "metadata": {
        "id": "s2nLUCw4Lns5"
      },
      "execution_count": 47,
      "outputs": []
    },
    {
      "cell_type": "code",
      "source": [
        "s1=student()\n",
        "s1.name='Ramesh'\n",
        "s1.Reg_no='211414104065'\n",
        "s1.display()"
      ],
      "metadata": {
        "colab": {
          "base_uri": "https://localhost:8080/"
        },
        "id": "qfvrkrw9McmF",
        "outputId": "bc702271-3c18-449d-b886-771f13337630"
      },
      "execution_count": 48,
      "outputs": [
        {
          "output_type": "stream",
          "name": "stdout",
          "text": [
            "Name of student is Ramesh and Register number is 211414104065\n"
          ]
        }
      ]
    },
    {
      "cell_type": "code",
      "source": [
        "#class and object example:\n",
        "\n",
        "class student_alt:\n",
        "  def __init__(self):\n",
        "    self.name='Jawahar'\n",
        "    self.Reg_no='2114141040667'\n",
        "  def display(self):\n",
        "    print('Name of student is {} and Register number is {}'.format(self.name,self.Reg_no))\n",
        "\n"
      ],
      "metadata": {
        "id": "T1AR00sfMnFc"
      },
      "execution_count": 63,
      "outputs": []
    },
    {
      "cell_type": "code",
      "source": [
        "s1=student_alt\n",
        "s1.name='Karthi'\n",
        "s1.Reg_no='211414104066'\n",
        "s1.display(s1)"
      ],
      "metadata": {
        "colab": {
          "base_uri": "https://localhost:8080/"
        },
        "id": "UqRLtQPjNu0E",
        "outputId": "f606ab43-1fec-48c0-9d2e-0bf7ae5bfcec"
      },
      "execution_count": 79,
      "outputs": [
        {
          "output_type": "stream",
          "name": "stdout",
          "text": [
            "Name of student is Karthi and Register number is 211414104066\n"
          ]
        }
      ]
    },
    {
      "cell_type": "code",
      "source": [
        "s2=student_alt\n",
        "s2.name='Jyothika'\n",
        "s2.Reg_no='211414104074'\n",
        "s2.display(s2)"
      ],
      "metadata": {
        "colab": {
          "base_uri": "https://localhost:8080/"
        },
        "id": "e4Jsbf2CN8Pp",
        "outputId": "12abb002-9220-4f1f-f258-346da5683fa0"
      },
      "execution_count": 80,
      "outputs": [
        {
          "output_type": "stream",
          "name": "stdout",
          "text": [
            "Name of student is Jyothika and Register number is 211414104074\n"
          ]
        }
      ]
    },
    {
      "cell_type": "code",
      "source": [
        "#class and object example:\n",
        "\n",
        "class student_alt:\n",
        "  def __init__(self):\n",
        "    self.name='Jawahar'\n",
        "    self.Reg_no='2114141040667'\n",
        "  def display(self):\n",
        "    print('Name of student is {} and Register number is {}'.format(self.name,self.Reg_no))\n",
        "\n",
        "s1=student_alt()\n",
        "s1.name='Karthi'\n",
        "s1.Reg_no='211414104066'\n",
        "s1.display()\n",
        "\n",
        "s2=student_alt()\n",
        "s2.name='Jyothika'\n",
        "s2.Reg_no='211414104074'\n",
        "s2.display()\n",
        "\n",
        "s3=student_alt()\n",
        "s3.display()"
      ],
      "metadata": {
        "colab": {
          "base_uri": "https://localhost:8080/"
        },
        "id": "6QBYLL4ROWPC",
        "outputId": "8073d6a3-9ee5-49e6-f7b7-f37b471adc4d"
      },
      "execution_count": 110,
      "outputs": [
        {
          "output_type": "stream",
          "name": "stdout",
          "text": [
            "Name of student is Karthi and Register number is 211414104066\n",
            "Name of student is Jyothika and Register number is 211414104074\n",
            "Name of student is Jawahar and Register number is 2114141040667\n"
          ]
        }
      ]
    },
    {
      "cell_type": "code",
      "source": [
        "class Fruit:\n",
        "  def __init__(self):\n",
        "    self.colour='Red'\n",
        "    self.price='100'\n",
        "  def display(self):\n",
        "    print('Colour is {} and price is {}'.format(self.colour,self.price))\n"
      ],
      "metadata": {
        "id": "4rUa4jaAPg0K"
      },
      "execution_count": 90,
      "outputs": []
    },
    {
      "cell_type": "code",
      "source": [
        "apple=Fruit()\n",
        "apple.colour='Green'\n",
        "apple.price='200'\n",
        "apple.display()"
      ],
      "metadata": {
        "colab": {
          "base_uri": "https://localhost:8080/"
        },
        "id": "IErBt8_hPsHx",
        "outputId": "b0855a42-8085-4d93-9307-0b2004f250ac"
      },
      "execution_count": 92,
      "outputs": [
        {
          "output_type": "stream",
          "name": "stdout",
          "text": [
            "Colour is Green and price is 200\n"
          ]
        }
      ]
    },
    {
      "cell_type": "code",
      "source": [
        "class Fruit:\n",
        "  def __init__(self,col,fruit):\n",
        "    self.color=col\n",
        "    self.fruit=fruit\n",
        "  def display(self):\n",
        "    print('Colour of {} is {}'.format(self.fruit,self.color))"
      ],
      "metadata": {
        "id": "xfuCdFAQQHYZ"
      },
      "execution_count": 101,
      "outputs": []
    },
    {
      "cell_type": "code",
      "source": [
        "banana=Fruit('yellow','banana')\n",
        "banana.display()"
      ],
      "metadata": {
        "colab": {
          "base_uri": "https://localhost:8080/"
        },
        "id": "WfqTjwraSFnk",
        "outputId": "7ce353cf-d455-4534-b8c8-38db9004c525"
      },
      "execution_count": 103,
      "outputs": [
        {
          "output_type": "stream",
          "name": "stdout",
          "text": [
            "Colour of banana is yellow\n"
          ]
        }
      ]
    },
    {
      "cell_type": "code",
      "source": [
        "#class and object example:\n",
        "\n",
        "class teacher:\n",
        "  def __init__(self):\n",
        "    self.name='Mohana Priya'\n",
        "    self.Reg_no='PEC_224'\n",
        "  def display(self):\n",
        "    print('Name of teacher is {} and Register number is {}'.format(self.name,self.Reg_no))\n",
        "\n",
        "s1=teacher()\n",
        "s1.display()"
      ],
      "metadata": {
        "colab": {
          "base_uri": "https://localhost:8080/"
        },
        "id": "wCigyu5cSpwY",
        "outputId": "4d70f96a-c613-4cff-9113-63eee34f9256"
      },
      "execution_count": 108,
      "outputs": [
        {
          "output_type": "stream",
          "name": "stdout",
          "text": [
            "Name of teacher is Mohana Priya and Register number is PEC_224\n"
          ]
        }
      ]
    },
    {
      "cell_type": "code",
      "source": [],
      "metadata": {
        "id": "N4bq9FFcUXdj"
      },
      "execution_count": null,
      "outputs": []
    },
    {
      "cell_type": "code",
      "source": [],
      "metadata": {
        "id": "DCoPTTA2UXaC"
      },
      "execution_count": null,
      "outputs": []
    },
    {
      "cell_type": "code",
      "source": [],
      "metadata": {
        "id": "AeGhj_dpUXW1"
      },
      "execution_count": null,
      "outputs": []
    },
    {
      "cell_type": "code",
      "source": [],
      "metadata": {
        "id": "uK8OkodqUXTr"
      },
      "execution_count": null,
      "outputs": []
    },
    {
      "cell_type": "code",
      "source": [
        "#class and object example:\n",
        "\n",
        "class teacher:\n",
        "  def __init__(self,name,reg):\n",
        "    self.name=name\n",
        "    self.Reg_no=reg\n",
        "  def display(self):\n",
        "    print('Name of teacher is {} and Register number is {}'.format(self.name,self.Reg_no))\n",
        "\n",
        "t1=teacher('Jake','PEC_277')\n",
        "t1.display()\n",
        "\n",
        "t2=teacher('Paul','PEC_128')\n",
        "t2.display()"
      ],
      "metadata": {
        "colab": {
          "base_uri": "https://localhost:8080/"
        },
        "id": "DtM40TLuTw_h",
        "outputId": "0e1ee2d9-fced-423b-deb7-c5ea7bf7b545"
      },
      "execution_count": 113,
      "outputs": [
        {
          "output_type": "stream",
          "name": "stdout",
          "text": [
            "Name of teacher is Jake and Register number is PEC_277\n",
            "Name of teacher is Paul and Register number is PEC_128\n"
          ]
        }
      ]
    },
    {
      "cell_type": "code",
      "source": [
        "class calculator:\n",
        "  def __init__(self,a,b,cal):\n",
        "    self.a=a\n",
        "    self.b=b\n",
        "    self.calculation_type=cal\n",
        "\n",
        "  def calculate(self):\n",
        "    if self.calculation_type =='add':\n",
        "      result=self.a+self.b\n",
        "      print('Addition of two values is {}'.format(result))\n",
        "    elif self.calculation_type =='sub':\n",
        "      result=self.a-self.b\n",
        "      print('Subraction of two values is {}'.format(result))\n",
        "    elif self.calculation_type =='mul':\n",
        "      result=self.a*self.b\n",
        "      print('Multiplication of two values is {}'.format(result))\n",
        "    elif self.calculation_type =='div':\n",
        "      result=self.a/self.b\n",
        "      print('Division of two values is {}'.format(result))\n",
        "    elif self.calculation_type =='mod':\n",
        "      result=self.a%self.b\n",
        "      print('Modulus of two values is {}'.format(result))\n",
        "    elif self.calculation_type =='exp':\n",
        "      result=self.a**self.b\n",
        "      print('Exponential of two values is {}'.format(result))"
      ],
      "metadata": {
        "id": "KM1-ouOCUmPl"
      },
      "execution_count": 119,
      "outputs": []
    },
    {
      "cell_type": "code",
      "source": [
        "c1=calculator(3,5,'add')\n",
        "c1.calculate()\n",
        "c2=calculator(3,5,'exp')\n",
        "c2.calculate()"
      ],
      "metadata": {
        "colab": {
          "base_uri": "https://localhost:8080/"
        },
        "id": "7fjB_cKmWlY3",
        "outputId": "efe5ed43-b93c-4dcc-b4df-601fb447b0e5"
      },
      "execution_count": 121,
      "outputs": [
        {
          "output_type": "stream",
          "name": "stdout",
          "text": [
            "Addition of two values is 8\n",
            "Exponential of two values is 243\n"
          ]
        }
      ]
    },
    {
      "cell_type": "code",
      "source": [],
      "metadata": {
        "id": "dFtTpYk9W1DG"
      },
      "execution_count": null,
      "outputs": []
    },
    {
      "cell_type": "markdown",
      "source": [
        "CLASSES AND VARIABLES TYPES"
      ],
      "metadata": {
        "id": "SVncB7LuXt-Q"
      }
    },
    {
      "cell_type": "code",
      "source": [
        "#Using class variables\n",
        "'''\n",
        "Lets say we need to use a universal variable as a normal for all instances of cllass been created . we might not need to create a\n",
        "instance variable everytime such that we assign same value to that variable. In these scenarios class variables come in handy\n",
        "'''"
      ],
      "metadata": {
        "colab": {
          "base_uri": "https://localhost:8080/",
          "height": 53
        },
        "id": "OAKkxh1WXw0O",
        "outputId": "46e62db1-e6e6-437f-b80f-201f2ebd0384"
      },
      "execution_count": 122,
      "outputs": [
        {
          "output_type": "execute_result",
          "data": {
            "text/plain": [
              "'\\nLets say we need to use a universal variable as a normal for all instances of cllass been created . we might not need to create a \\ninstance variable everytime such that we assign same value to that variable. In these scenarios class variables come in handy  \\n'"
            ],
            "application/vnd.google.colaboratory.intrinsic+json": {
              "type": "string"
            }
          },
          "metadata": {},
          "execution_count": 122
        }
      ]
    },
    {
      "cell_type": "code",
      "source": [
        "#class and object example:\n",
        "\n",
        "class teacher:\n",
        "  school='Infant Jesus Matriculation school'\n",
        "  def __init__(self,name,reg):\n",
        "    self.name=name\n",
        "    self.Reg_no=reg\n",
        "  def display(self):\n",
        "    print('Name of teacher is {} and Register number is {} from {}'.format(self.name,self.Reg_no,self.school))\n",
        "\n",
        "class student_alt:\n",
        "  school='Velammal Matriculation school-CBSE'\n",
        "  def __init__(self):\n",
        "    self.name='Jawahar'\n",
        "    self.Reg_no='2114141040667'\n",
        "  def display(self):\n",
        "    print('Name of student is {} and Register number is {} from {}'.format(self.name,self.Reg_no,self.school))\n",
        "\n",
        "t1=teacher('Jake','PEC_277')\n",
        "t1.display()\n",
        "\n",
        "s1=student_alt()\n",
        "s1.display()\n",
        "\n",
        "#HERE WE CAN SEE THAT self.name and self.Reg_no ARE INSTANCE VARIABLES WHICH HOLDS VALUE ONLY TO THAT PARTICULAR INSTANCE"
      ],
      "metadata": {
        "colab": {
          "base_uri": "https://localhost:8080/"
        },
        "id": "qYUniIxgbwRv",
        "outputId": "36667de7-ecf2-4b03-8a10-37172959cd4b"
      },
      "execution_count": 125,
      "outputs": [
        {
          "output_type": "stream",
          "name": "stdout",
          "text": [
            "Name of teacher is Jake and Register number is PEC_277 from Infant Jesus Matriculation school\n",
            "Name of student is Jawahar and Register number is 2114141040667 from Velammal Matriculation school-CBSE\n"
          ]
        }
      ]
    },
    {
      "cell_type": "code",
      "source": [
        "#class and object example:\n",
        "\n",
        "class teacher:\n",
        "  school='Infant Jesus Matriculation school'\n",
        "  def __init__(self,name,reg):\n",
        "    self.name=name\n",
        "    self.Reg_no=reg\n",
        "  def display(self):\n",
        "    print('Name of teacher is {} and Register number is {} from {}'.format(self.name,self.Reg_no,self.school))\n",
        "\n",
        "class student_alt:\n",
        "  school='Velammal Matriculation school-CBSE'\n",
        "  def __init__(self):\n",
        "    self.name='Jawahar'\n",
        "    self.Reg_no='2114141040667'\n",
        "  def display(self):\n",
        "    print('Name of student is {} and Register number is {} from {}'.format(self.name,self.Reg_no,self.school))\n",
        "\n",
        "teacher.school='Chennai Public school - CBSE'\n",
        "t1=teacher('Jake','PEC_277')\n",
        "t1.display()\n",
        "\n",
        "student_alt.school='SBOA Matriculation school-CBSE'\n",
        "s1=student_alt()\n",
        "s1.display()\n",
        "\n",
        "#CLASS OBJECTS CAN ALSO BE MODIFIED THEN AND THERE IF REQUIRED\n",
        "#HERE WE CAN SEE THAT self.name and self.Reg_no ARE INSTANCE VARIABLES WHICH HOLDS VALUE ONLY TO THAT PARTICULAR INSTANCE"
      ],
      "metadata": {
        "colab": {
          "base_uri": "https://localhost:8080/"
        },
        "id": "ih6PyGg1cdMt",
        "outputId": "8cc4243c-dfb6-4a1b-8200-0d27c3500397"
      },
      "execution_count": 127,
      "outputs": [
        {
          "output_type": "stream",
          "name": "stdout",
          "text": [
            "Name of teacher is Jake and Register number is PEC_277 from Chennai Public school - CBSE\n",
            "Name of student is Jawahar and Register number is 2114141040667 from SBOA Matriculation school-CBSE\n"
          ]
        }
      ]
    },
    {
      "cell_type": "markdown",
      "source": [
        "CLASSES AND TYPES OF METHODS/FUNCTIONS"
      ],
      "metadata": {
        "id": "LF1zpgR4d0ls"
      }
    },
    {
      "cell_type": "code",
      "source": [
        "#class and object example:\n",
        "\n",
        "class teacher:\n",
        "  school='Infant Jesus Matriculation school'\n",
        "  def __init__(self,name,reg):\n",
        "    self.name=name\n",
        "    self.Reg_no=reg\n",
        "  def display(self):\n",
        "    print('Name of teacher is {} and Register number is {} from {}'.format(self.name,self.Reg_no,self.school))\n",
        "\n",
        "class student_alt:\n",
        "  school='Velammal Matriculation school-CBSE'\n",
        "  def __init__(self):\n",
        "    self.name='Jawahar'\n",
        "    self.Reg_no='2114141040667'\n",
        "\n",
        "  def setschoolname(cls):\n",
        "    cls.school='Rani Mangamma Matriculation school'\n",
        "\n",
        "\n",
        "  def display(self):\n",
        "    print('Name of student is {} and Register number is {} from {}'.format(self.name,self.Reg_no,self.school))\n",
        "\n",
        "s1=student_alt()\n",
        "student_alt.setschoolname(student_alt)\n",
        "s1.display()\n",
        "\n",
        "#HERE WE ARE TRYING TO MODIFY THE EXISTING VALUE OF CLASS OBJECT SCHOOL WITH setschoolname function"
      ],
      "metadata": {
        "colab": {
          "base_uri": "https://localhost:8080/"
        },
        "id": "jmNPrpAAdoJR",
        "outputId": "764f54c8-5df3-4651-a778-0338919adadd"
      },
      "execution_count": 133,
      "outputs": [
        {
          "output_type": "stream",
          "name": "stdout",
          "text": [
            "Name of student is Jawahar and Register number is 2114141040667 from Rani Mangamma Matriculation school\n"
          ]
        }
      ]
    },
    {
      "cell_type": "markdown",
      "source": [
        "DECORATORS"
      ],
      "metadata": {
        "id": "_pFl6pCkf1Wx"
      }
    },
    {
      "cell_type": "code",
      "source": [
        "#class and object example:\n",
        "\n",
        "class teacher:\n",
        "  school='Infant Jesus Matriculation school'\n",
        "  def __init__(self,name,reg):\n",
        "    self.name=name\n",
        "    self.Reg_no=reg\n",
        "  @classmethod\n",
        "  def setschoolname(cls):\n",
        "    cls.school='SAINT JOSEPHS MATRICULATION SCHOOL'\n",
        "\n",
        "  def display(self):\n",
        "    print('Name of teacher is {} and Register number is {} from {}'.format(self.name,self.Reg_no,self.school))\n",
        "\n",
        "class student_alt:\n",
        "  school='Velammal Matriculation school-CBSE'\n",
        "  def __init__(self):\n",
        "    self.name='Jawahar'\n",
        "    self.Reg_no='2114141040667'\n",
        "\n",
        "  def setschoolname(cls):\n",
        "    cls.school='Rani Mangamma Matriculation school'\n",
        "\n",
        "\n",
        "  def display(self):\n",
        "    print('Name of student is {} and Register number is {} from {}'.format(self.name,self.Reg_no,self.school))\n",
        "\n",
        "s1=student_alt()\n",
        "student_alt.setschoolname(student_alt)\n",
        "s1.display()\n",
        "\n",
        "t1=teacher('Jake','PEC_224')\n",
        "teacher.setschoolname()\n",
        "t1.display()\n",
        "\n",
        "#HERE WE ARE TRYING TO MODIFY THE EXISTING VALUE OF CLASS OBJECT SCHOOL WITH setschoolname function\n",
        "#OR ELSE WE CAN USE A DECORATOR BY MENTIONING '@' SYMBOL ABOVE THE CLASS NAME TO AVOID PASSING THE CLASS NAME AS A ARGUMENT"
      ],
      "metadata": {
        "colab": {
          "base_uri": "https://localhost:8080/"
        },
        "id": "urpvrchmintD",
        "outputId": "b29a8ebb-cb53-4e9e-8516-59536414d1cd"
      },
      "execution_count": 135,
      "outputs": [
        {
          "output_type": "stream",
          "name": "stdout",
          "text": [
            "Name of student is Jawahar and Register number is 2114141040667 from Rani Mangamma Matriculation school\n",
            "Name of teacher is Jake and Register number is PEC_224 from SAINT JOSEPHS MATRICULATION SCHOOL\n"
          ]
        }
      ]
    },
    {
      "cell_type": "markdown",
      "source": [
        "STATIC METHODS WHICH DOES NOT USE CLASS AND INSTANCE VARIABLES TO DO OPERATIONS"
      ],
      "metadata": {
        "id": "EZnyUc08k1bS"
      }
    },
    {
      "cell_type": "code",
      "source": [
        "#class and object example:\n",
        "class teacher:\n",
        "  school='Infant Jesus Matriculation school'\n",
        "  def __init__(self,name,reg):\n",
        "    self.name=name\n",
        "    self.Reg_no=reg\n",
        "  @classmethod\n",
        "  def setschoolname(cls):\n",
        "    cls.school='SAINT JOSEPHS MATRICULATION SCHOOL'\n",
        "\n",
        "  def display(self):\n",
        "    print('Name of teacher is {} and Register number is {} from {}'.format(self.name,self.Reg_no,self.school))\n",
        "\n",
        "  @staticmethod\n",
        "  def simple():\n",
        "    print('Hey yooooooooooooooo')\n",
        "\n",
        "t1=teacher('Jake','PEC_224')\n",
        "teacher.setschoolname()\n",
        "t1.display()\n",
        "t1.simple()\n",
        "\n",
        "#HERE WE ARE USING A DECORATOR '@staticmethod' TO SPECIFY THE FUNCTION 'simple' AS STATIC METHOD/FUNCTION\n",
        "#HERE WE ARE TRYING TO MODIFY THE EXISTING VALUE OF CLASS OBJECT SCHOOL WITH setschoolname function\n",
        "#OR ELSE WE CAN USE A DECORATOR BY MENTIONING '@' SYMBOL ABOVE THE CLASS NAME TO AVOID PASSING THE CLASS NAME AS A ARGUMENT"
      ],
      "metadata": {
        "colab": {
          "base_uri": "https://localhost:8080/"
        },
        "id": "ao8-3U5gkRqr",
        "outputId": "2b6e8a89-0b4b-45f9-f616-2d46da56e13e"
      },
      "execution_count": 139,
      "outputs": [
        {
          "output_type": "stream",
          "name": "stdout",
          "text": [
            "Name of teacher is Jake and Register number is PEC_224 from SAINT JOSEPHS MATRICULATION SCHOOL\n",
            "Hey yooooooooooooooo\n"
          ]
        }
      ]
    },
    {
      "cell_type": "code",
      "source": [],
      "metadata": {
        "id": "gur3uPg-lXkv"
      },
      "execution_count": null,
      "outputs": []
    },
    {
      "cell_type": "markdown",
      "source": [
        "INHERITANCE AND ITS TYPES"
      ],
      "metadata": {
        "id": "ir1FLNA9aHFZ"
      }
    },
    {
      "cell_type": "markdown",
      "source": [
        "SINGLE INHERITANCE"
      ],
      "metadata": {
        "id": "STXUPy2-aKla"
      }
    },
    {
      "cell_type": "code",
      "source": [
        "class dad():\n",
        "  def __init__(self):\n",
        "    self.car='Skoda'\n",
        "    self.money='2250000'\n",
        "    self.real_estate='Home'\n",
        "  def assets(self):\n",
        "    print('I own a house and a car')\n",
        "\n",
        "class son(dad):\n",
        "  def __init__(self):\n",
        "    pass\n",
        "  def inherit(self):\n",
        "    print(self.car,self.money)\n",
        "\n",
        "s=son()\n",
        "s.assets()"
      ],
      "metadata": {
        "colab": {
          "base_uri": "https://localhost:8080/"
        },
        "id": "W5mjhChHaJNQ",
        "outputId": "5cc975ed-47b0-4cde-b71c-1c233be7f787"
      },
      "execution_count": 18,
      "outputs": [
        {
          "output_type": "stream",
          "name": "stdout",
          "text": [
            "I own a house and a car\n"
          ]
        }
      ]
    },
    {
      "cell_type": "markdown",
      "source": [
        "MULTIPLE INHERITANCE"
      ],
      "metadata": {
        "id": "mqJzTN0BdGu9"
      }
    },
    {
      "cell_type": "code",
      "source": [
        "class dad():\n",
        "  def __init__(self):\n",
        "    self.car='Skoda'\n",
        "    self.money='2250000'\n",
        "    self.real_estate='Home'\n",
        "  def assets(self):\n",
        "    print('I own a {} car and some amount of {} also a {} which we live in currently')\n",
        "\n",
        "class mom():\n",
        "  def __init__(self):\n",
        "    self.metal='Gold'\n",
        "    self.money='2250'\n",
        "    self.real_estate='Ancestoral share'\n",
        "  def valuables(self):\n",
        "    print('I own my stuff {},{},{}')\n",
        "\n",
        "class son(dad,mom):\n",
        "  def __init__(self):\n",
        "    pass\n",
        "  def inherit(self):\n",
        "    print(self.car,self.money)\n",
        "\n",
        "s=son()\n",
        "s.assets()\n",
        "s.valuables()"
      ],
      "metadata": {
        "colab": {
          "base_uri": "https://localhost:8080/"
        },
        "id": "_jwj8Q-Nar3X",
        "outputId": "72d4261f-f80d-4a96-c562-bda2ad719a22"
      },
      "execution_count": 23,
      "outputs": [
        {
          "output_type": "stream",
          "name": "stdout",
          "text": [
            "I own a {} car and some amount of {} also a {} which we live in currently\n",
            "I own my stuff {},{},{}\n"
          ]
        }
      ]
    },
    {
      "cell_type": "code",
      "source": [],
      "metadata": {
        "id": "77tPFUmGdTP_"
      },
      "execution_count": null,
      "outputs": []
    },
    {
      "cell_type": "markdown",
      "source": [
        "MULTILEVEL INHERITANCE"
      ],
      "metadata": {
        "id": "D2KmTP4vdUAf"
      }
    },
    {
      "cell_type": "code",
      "source": [
        "class grandpa():\n",
        "  def __init__(self):\n",
        "    self.car='Skoda'\n",
        "    self.money='2250000'\n",
        "    self.real_estate='Home'\n",
        "  def assets(self):\n",
        "    print('I own a {} car and some amount of {} also a {} which we live in currently')\n",
        "\n",
        "class father(grandpa):\n",
        "  def __init__(self):\n",
        "    self.metal='Gold'\n",
        "    self.money='2250'\n",
        "    self.real_estate='Ancestoral share'\n",
        "  def valuables(self):\n",
        "    print('I own my stuff {},{},{}')\n",
        "\n",
        "class son(father):\n",
        "  def __init__(self):\n",
        "    pass\n",
        "  def inherit(self):\n",
        "    print(self.car,self.money)\n",
        "\n",
        "f=father()\n",
        "f.assets()\n",
        "s=son()\n",
        "s.assets()\n",
        "s.valuables()"
      ],
      "metadata": {
        "colab": {
          "base_uri": "https://localhost:8080/"
        },
        "id": "WERQe9sbdXwc",
        "outputId": "70ff73cd-21d6-469e-d2dd-8160bdc322e2"
      },
      "execution_count": 25,
      "outputs": [
        {
          "output_type": "stream",
          "name": "stdout",
          "text": [
            "I own a {} car and some amount of {} also a {} which we live in currently\n",
            "I own a {} car and some amount of {} also a {} which we live in currently\n",
            "I own my stuff {},{},{}\n"
          ]
        }
      ]
    },
    {
      "cell_type": "markdown",
      "source": [
        "HIERARICHAL INHERITANCE"
      ],
      "metadata": {
        "id": "Ip25cgmseA2x"
      }
    },
    {
      "cell_type": "code",
      "source": [
        "class dad():\n",
        "  def __init__(self):\n",
        "    self.car='Skoda'\n",
        "    self.money='2250000'\n",
        "    self.real_estate='Home'\n",
        "  def assets(self):\n",
        "    print('I own a {} car and some amount of {} also a {} which we live in currently')\n",
        "\n",
        "class son(dad):\n",
        "  def __init__(self):\n",
        "    self.metal='Gold'\n",
        "    self.money='2250'\n",
        "    self.real_estate='Ancestoral share'\n",
        "  def valuables(self):\n",
        "    print('I own my stuff {},{},{}')\n",
        "\n",
        "class daughter(dad):\n",
        "  def __init__(self):\n",
        "    pass\n",
        "  def inherit(self):\n",
        "    print(self.car,self.money)\n",
        "\n",
        "s=son()\n",
        "s.assets()\n",
        "d=daughter()\n",
        "d.assets()\n"
      ],
      "metadata": {
        "colab": {
          "base_uri": "https://localhost:8080/"
        },
        "id": "hcbsZpJ1dnhk",
        "outputId": "f2fcfe10-ccbf-4b96-bafb-ebcd4c19c532"
      },
      "execution_count": 26,
      "outputs": [
        {
          "output_type": "stream",
          "name": "stdout",
          "text": [
            "I own a {} car and some amount of {} also a {} which we live in currently\n",
            "I own a {} car and some amount of {} also a {} which we live in currently\n"
          ]
        }
      ]
    },
    {
      "cell_type": "markdown",
      "source": [
        "MULTIPLE TRY 2"
      ],
      "metadata": {
        "id": "vLEi9xfye96n"
      }
    },
    {
      "cell_type": "code",
      "source": [
        "class dad():\n",
        "  def __init__(self):\n",
        "    self.car='Skoda'\n",
        "    self.money='2250000'\n",
        "    self.real_estate='Home'\n",
        "  def assets(self):\n",
        "    print('I own a {} car and some amount of {} also a {} which we live in currently')\n",
        "\n",
        "class land():\n",
        "  def display(self):\n",
        "    print('This is a 5 acre property')\n",
        "\n",
        "\n",
        "class farms():\n",
        "  def display(self):\n",
        "    print('This is a 5 acre farm property')\n",
        "\n",
        "class son(dad,land):\n",
        "  def __init__(self):\n",
        "    self.metal='Gold'\n",
        "    self.money='2250'\n",
        "    self.real_estate='Ancestoral share'\n",
        "  def valuables(self):\n",
        "    print('I own my stuff {},{},{}')\n",
        "\n",
        "class daughter(dad,farms):\n",
        "  def __init__(self):\n",
        "    pass\n",
        "  def inherit(self):\n",
        "    print(self.car,self.money)\n",
        "\n",
        "s=son()\n",
        "s.assets()\n",
        "s.display()\n",
        "d=daughter()\n",
        "d.assets()\n",
        "d.display()\n"
      ],
      "metadata": {
        "colab": {
          "base_uri": "https://localhost:8080/"
        },
        "id": "FpXGBX4zeFJw",
        "outputId": "1d1c9185-f1f4-42bf-c1cb-7da59ac4db15"
      },
      "execution_count": 27,
      "outputs": [
        {
          "output_type": "stream",
          "name": "stdout",
          "text": [
            "I own a {} car and some amount of {} also a {} which we live in currently\n",
            "This is a 5 acre property\n",
            "I own a {} car and some amount of {} also a {} which we live in currently\n",
            "This is a 5 acre farm property\n"
          ]
        }
      ]
    },
    {
      "cell_type": "markdown",
      "source": [
        "SUPER KEYWORD"
      ],
      "metadata": {
        "id": "gOVmvr29ft-H"
      }
    },
    {
      "cell_type": "markdown",
      "source": [
        "SUPER KEYWORD FOR HIERARICHAL INHERITANCE"
      ],
      "metadata": {
        "id": "xd9P0tQHk6Dd"
      }
    },
    {
      "cell_type": "code",
      "source": [
        "class dad():\n",
        "  def __init__(self):\n",
        "    self.car='Skoda'\n",
        "    self.money='2250000'\n",
        "    self.real_estate='Home'\n",
        "  def assets(self):\n",
        "    print('I own a {} car and some amount of {} also a {} which we live in currently'.format(self.car,self.money,self.real_estate))\n",
        "\n",
        "class son(dad):\n",
        "  def __init__(self):\n",
        "    super().__init__()\n",
        "  def valuables(self):\n",
        "    print('I own my dad {},{}'.format(self.car,self.money))\n",
        "\n",
        "class daughter(dad):\n",
        "  def __init__(self):\n",
        "    super().__init__()\n",
        "  def inherit(self):\n",
        "    print('I own my dad {},{}'.format(self.money,self.real_estate))\n",
        "\n",
        "s=son()\n",
        "s.valuables()\n",
        "d=daughter()\n",
        "d.inherit()\n"
      ],
      "metadata": {
        "colab": {
          "base_uri": "https://localhost:8080/"
        },
        "id": "uiCULTNjeFGU",
        "outputId": "086dd13e-23d1-48b5-be4f-057f7417fe0e"
      },
      "execution_count": 37,
      "outputs": [
        {
          "output_type": "stream",
          "name": "stdout",
          "text": [
            "I own my dad Skoda,2250000\n",
            "I own my dad 2250000,Home\n"
          ]
        }
      ]
    },
    {
      "cell_type": "markdown",
      "source": [
        "SUPER KEYWORD FOR MULTILEVEL INHERITANCE"
      ],
      "metadata": {
        "id": "RuSf2iK_lgZr"
      }
    },
    {
      "cell_type": "code",
      "source": [
        "class grandpa():\n",
        "  def __init__(self):\n",
        "    self.car='Skoda'\n",
        "    self.money='2250000'\n",
        "    self.real_estate='Home'\n",
        "  def assets(self):\n",
        "    print('I own a {} car and some amount of {} also a {} which we live in currently'.format(self.car,self.money,self.real_estate))\n",
        "\n",
        "class father(grandpa):\n",
        "  def __init__(self):\n",
        "    super().__init__()\n",
        "  def valuables(self):\n",
        "    print('I own stuff from your grandfather {},{},{}'.format(self.car,self.money,self.real_estate))\n",
        "\n",
        "class son(father):\n",
        "  def __init__(self):\n",
        "    super().__init__()\n",
        "  def inherit(self):\n",
        "    print('I own my father stuff {},{},{}'.format(self.car,self.money,self.real_estate))\n",
        "\n",
        "s=son()\n",
        "s.valuables()\n",
        "s.inherit()"
      ],
      "metadata": {
        "colab": {
          "base_uri": "https://localhost:8080/"
        },
        "id": "Pk5kWUDMeFC3",
        "outputId": "d96a52fd-1827-4aad-c0c8-3935c148f8f4"
      },
      "execution_count": 38,
      "outputs": [
        {
          "output_type": "stream",
          "name": "stdout",
          "text": [
            "I own stuff from your grandfather Skoda,2250000,Home\n",
            "I own my father stuff Skoda,2250000,Home\n"
          ]
        }
      ]
    },
    {
      "cell_type": "code",
      "source": [],
      "metadata": {
        "id": "bnHWo_KleFAC"
      },
      "execution_count": null,
      "outputs": []
    },
    {
      "cell_type": "code",
      "source": [],
      "metadata": {
        "id": "FxKjIFgGeE9X"
      },
      "execution_count": null,
      "outputs": []
    },
    {
      "cell_type": "code",
      "source": [],
      "metadata": {
        "id": "4VmhMLndeE6F"
      },
      "execution_count": null,
      "outputs": []
    },
    {
      "cell_type": "markdown",
      "source": [
        "SUPER KEYWORD FOR MULTIPLE INHERITANCE"
      ],
      "metadata": {
        "id": "cWAG9bmljvSd"
      }
    },
    {
      "cell_type": "code",
      "source": [
        "class dad():\n",
        "  def __init__(self):\n",
        "    self.car='Skoda'\n",
        "    self.money='2250000'\n",
        "    self.real_estate='Home'\n",
        "  def assets(self):\n",
        "    print('I own a {} car and some amount of {} also a {} which we live in currently'.format(self.car,self.money,self.real_estate))\n",
        "\n",
        "class mom():\n",
        "  def __init__(self):\n",
        "    super().__init__()\n",
        "    self.metal='Gold'\n",
        "    self.money='2250'\n",
        "    self.real_estate='Ancestoral share'\n",
        "  def valuables(self):\n",
        "    print('I own my stuff {},{},{}'.format(self.metal,self.money,self.real_estate))\n",
        "\n",
        "class son(mom,dad):\n",
        "  def __init__(self):\n",
        "    super().__init__()\n",
        "  def inherit(self):\n",
        "    print(self.car,self.money)\n",
        "\n",
        "s=son()\n",
        "s.assets()\n",
        "s.valuables()"
      ],
      "metadata": {
        "colab": {
          "base_uri": "https://localhost:8080/"
        },
        "id": "h3q7CbNjeE3g",
        "outputId": "09eeeb89-d413-484a-be41-788917fd56cc"
      },
      "execution_count": 34,
      "outputs": [
        {
          "output_type": "stream",
          "name": "stdout",
          "text": [
            "I own a Skoda car and some amount of 2250 also a Ancestoral share which we live in currently\n",
            "I own my stuff Gold,2250,Ancestoral share\n"
          ]
        }
      ]
    },
    {
      "cell_type": "markdown",
      "source": [
        "POYMORPHISM IN PYTHON"
      ],
      "metadata": {
        "id": "UaMbSjuynUO9"
      }
    },
    {
      "cell_type": "code",
      "source": [
        "class getname():\n",
        "  def __init__(self,name):\n",
        "    self.name=name\n",
        "  def person_display(self):\n",
        "    print('The name is {}'.format(self.name))\n",
        "\n",
        "class getgrade(getname):\n",
        "  def __init__(self,grade,name):\n",
        "    super().__init__(name)\n",
        "    self.grade=grade\n",
        "  def person_display(self):\n",
        "    print('The name is {}'.format(self.name))\n",
        "    print('The grade is {}'.format(self.grade))\n",
        "\n",
        "name=getname(\"JOHN\")\n",
        "grade=getgrade(\"A\",\"BIJILI\")\n",
        "grade.person_display()\n",
        "name.person_display()"
      ],
      "metadata": {
        "colab": {
          "base_uri": "https://localhost:8080/"
        },
        "id": "9XbNO429imsw",
        "outputId": "1d3699a1-a832-4237-f769-96b483972c59"
      },
      "execution_count": 61,
      "outputs": [
        {
          "output_type": "stream",
          "name": "stdout",
          "text": [
            "The name is BIJILI\n",
            "The grade is A\n",
            "The name is JOHN\n"
          ]
        }
      ]
    },
    {
      "cell_type": "code",
      "source": [],
      "metadata": {
        "id": "kmaXMKt3v36v"
      },
      "execution_count": null,
      "outputs": []
    }
  ]
}