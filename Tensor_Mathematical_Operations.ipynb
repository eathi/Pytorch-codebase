{
  "nbformat": 4,
  "nbformat_minor": 0,
  "metadata": {
    "colab": {
      "provenance": [],
      "authorship_tag": "ABX9TyPH960G0xjNnn/PgBlrG1K4",
      "include_colab_link": true
    },
    "kernelspec": {
      "name": "python3",
      "display_name": "Python 3"
    },
    "language_info": {
      "name": "python"
    }
  },
  "cells": [
    {
      "cell_type": "markdown",
      "metadata": {
        "id": "view-in-github",
        "colab_type": "text"
      },
      "source": [
        "<a href=\"https://colab.research.google.com/github/eathi/Pytorch-codebase/blob/main/Tensor_Mathematical_Operations.ipynb\" target=\"_parent\"><img src=\"https://colab.research.google.com/assets/colab-badge.svg\" alt=\"Open In Colab\"/></a>"
      ]
    },
    {
      "cell_type": "markdown",
      "source": [
        "**TENSOR MATH OPERATIONS**\n",
        "\n",
        "\n",
        "*   Add, Subtract, Multiply, Divide, Remainders, Exponents\n",
        "*   Shorthand and uh, Longhand\n",
        "*   Reassignment\n",
        "\n"
      ],
      "metadata": {
        "id": "9wrktZKn_NWo"
      }
    },
    {
      "cell_type": "code",
      "source": [
        "import torch\n",
        "import numpy as np"
      ],
      "metadata": {
        "id": "Rjm3JEBz_P8D"
      },
      "execution_count": 2,
      "outputs": []
    },
    {
      "cell_type": "code",
      "source": [
        "tensor_new_1=torch.arange(10)\n",
        "tensor_new_1"
      ],
      "metadata": {
        "colab": {
          "base_uri": "https://localhost:8080/"
        },
        "id": "V7gF3_Ml_SeP",
        "outputId": "b571e5d4-f486-4045-95a9-b750562411a4"
      },
      "execution_count": 6,
      "outputs": [
        {
          "output_type": "execute_result",
          "data": {
            "text/plain": [
              "tensor([0, 1, 2, 3, 4, 5, 6, 7, 8, 9])"
            ]
          },
          "metadata": {},
          "execution_count": 6
        }
      ]
    },
    {
      "cell_type": "code",
      "source": [
        "tensor_new_2=torch.arange(10)\n",
        "tensor_new_2"
      ],
      "metadata": {
        "colab": {
          "base_uri": "https://localhost:8080/"
        },
        "id": "EJVXdNrM_goK",
        "outputId": "749bb7b7-28af-4b4c-b034-1efec0361898"
      },
      "execution_count": 7,
      "outputs": [
        {
          "output_type": "execute_result",
          "data": {
            "text/plain": [
              "tensor([0, 1, 2, 3, 4, 5, 6, 7, 8, 9])"
            ]
          },
          "metadata": {},
          "execution_count": 7
        }
      ]
    },
    {
      "cell_type": "code",
      "source": [
        "tensor_new_1+tensor_new_2"
      ],
      "metadata": {
        "colab": {
          "base_uri": "https://localhost:8080/"
        },
        "id": "oVQEi1pC_jXU",
        "outputId": "b7f6d37f-9324-45b5-c407-28bf2931fcb9"
      },
      "execution_count": 8,
      "outputs": [
        {
          "output_type": "execute_result",
          "data": {
            "text/plain": [
              "tensor([ 0,  2,  4,  6,  8, 10, 12, 14, 16, 18])"
            ]
          },
          "metadata": {},
          "execution_count": 8
        }
      ]
    },
    {
      "cell_type": "code",
      "source": [
        "tensor_new_1-tensor_new_2"
      ],
      "metadata": {
        "colab": {
          "base_uri": "https://localhost:8080/"
        },
        "id": "mNNm_Zyo_pDY",
        "outputId": "1ea22c7e-1184-4421-8241-6e5b0d0148f5"
      },
      "execution_count": 9,
      "outputs": [
        {
          "output_type": "execute_result",
          "data": {
            "text/plain": [
              "tensor([0, 0, 0, 0, 0, 0, 0, 0, 0, 0])"
            ]
          },
          "metadata": {},
          "execution_count": 9
        }
      ]
    },
    {
      "cell_type": "code",
      "source": [
        "tensor_new_1*tensor_new_2"
      ],
      "metadata": {
        "colab": {
          "base_uri": "https://localhost:8080/"
        },
        "id": "Oejn9B2k_vKm",
        "outputId": "907331df-2eb3-4e51-e5d5-2f85a3e04b88"
      },
      "execution_count": 10,
      "outputs": [
        {
          "output_type": "execute_result",
          "data": {
            "text/plain": [
              "tensor([ 0,  1,  4,  9, 16, 25, 36, 49, 64, 81])"
            ]
          },
          "metadata": {},
          "execution_count": 10
        }
      ]
    },
    {
      "cell_type": "code",
      "source": [
        "tensor_new_1/tensor_new_2"
      ],
      "metadata": {
        "colab": {
          "base_uri": "https://localhost:8080/"
        },
        "id": "z3I12ISS_zd_",
        "outputId": "ab697332-ef3b-4b66-8def-21732a775c79"
      },
      "execution_count": 13,
      "outputs": [
        {
          "output_type": "execute_result",
          "data": {
            "text/plain": [
              "tensor([nan, 1., 1., 1., 1., 1., 1., 1., 1., 1.])"
            ]
          },
          "metadata": {},
          "execution_count": 13
        }
      ]
    },
    {
      "cell_type": "code",
      "source": [
        "tensor_new_2=tensor_new_2+2"
      ],
      "metadata": {
        "id": "mKBhbrZg_zak"
      },
      "execution_count": 19,
      "outputs": []
    },
    {
      "cell_type": "code",
      "source": [
        "tensor_new_3=tensor_new_2/tensor_new_1\n",
        "tensor_new_3"
      ],
      "metadata": {
        "colab": {
          "base_uri": "https://localhost:8080/"
        },
        "id": "e0EqUUdk_zXf",
        "outputId": "7428f85e-acc2-4d80-a644-54a7517dc67e"
      },
      "execution_count": 22,
      "outputs": [
        {
          "output_type": "execute_result",
          "data": {
            "text/plain": [
              "tensor([   inf, 3.0000, 2.0000, 1.6667, 1.5000, 1.4000, 1.3333, 1.2857, 1.2500,\n",
              "        1.2222])"
            ]
          },
          "metadata": {},
          "execution_count": 22
        }
      ]
    },
    {
      "cell_type": "code",
      "source": [
        "torch.add(tensor_new_1,tensor_new_2)"
      ],
      "metadata": {
        "colab": {
          "base_uri": "https://localhost:8080/"
        },
        "id": "GULCfi9Q_zUU",
        "outputId": "b1008932-79f6-4cd4-9b56-66568a87e4bb"
      },
      "execution_count": 23,
      "outputs": [
        {
          "output_type": "execute_result",
          "data": {
            "text/plain": [
              "tensor([ 2,  4,  6,  8, 10, 12, 14, 16, 18, 20])"
            ]
          },
          "metadata": {},
          "execution_count": 23
        }
      ]
    },
    {
      "cell_type": "code",
      "source": [
        "torch.sub(tensor_new_1,tensor_new_2)"
      ],
      "metadata": {
        "colab": {
          "base_uri": "https://localhost:8080/"
        },
        "id": "IfSbARII_zQ8",
        "outputId": "9ecf976f-51e9-45c0-de3f-c17d4aadd9b9"
      },
      "execution_count": 24,
      "outputs": [
        {
          "output_type": "execute_result",
          "data": {
            "text/plain": [
              "tensor([-2, -2, -2, -2, -2, -2, -2, -2, -2, -2])"
            ]
          },
          "metadata": {},
          "execution_count": 24
        }
      ]
    },
    {
      "cell_type": "code",
      "source": [
        "torch.mul(tensor_new_1,tensor_new_2)"
      ],
      "metadata": {
        "colab": {
          "base_uri": "https://localhost:8080/"
        },
        "id": "D_cufsiY_zN4",
        "outputId": "69366905-df83-4111-c65a-24af72005bc3"
      },
      "execution_count": 25,
      "outputs": [
        {
          "output_type": "execute_result",
          "data": {
            "text/plain": [
              "tensor([ 0,  3,  8, 15, 24, 35, 48, 63, 80, 99])"
            ]
          },
          "metadata": {},
          "execution_count": 25
        }
      ]
    },
    {
      "cell_type": "code",
      "source": [
        "torch.div(tensor_new_1,tensor_new_2)"
      ],
      "metadata": {
        "colab": {
          "base_uri": "https://localhost:8080/"
        },
        "id": "zqPPIdbG_xq9",
        "outputId": "0743dba4-47b1-442b-b42b-17f012d433f0"
      },
      "execution_count": 26,
      "outputs": [
        {
          "output_type": "execute_result",
          "data": {
            "text/plain": [
              "tensor([0.0000, 0.3333, 0.5000, 0.6000, 0.6667, 0.7143, 0.7500, 0.7778, 0.8000,\n",
              "        0.8182])"
            ]
          },
          "metadata": {},
          "execution_count": 26
        }
      ]
    },
    {
      "cell_type": "code",
      "source": [
        "torch.remainder(tensor_new_1,tensor_new_2)"
      ],
      "metadata": {
        "colab": {
          "base_uri": "https://localhost:8080/"
        },
        "id": "KQq8hn0_AtGk",
        "outputId": "9d5021a8-e6ce-43ab-b911-4fc4d288eed9"
      },
      "execution_count": 32,
      "outputs": [
        {
          "output_type": "execute_result",
          "data": {
            "text/plain": [
              "tensor([0, 1, 2, 3, 4, 5, 6, 7, 8, 9])"
            ]
          },
          "metadata": {},
          "execution_count": 32
        }
      ]
    },
    {
      "cell_type": "code",
      "source": [
        "tensor_new_1"
      ],
      "metadata": {
        "colab": {
          "base_uri": "https://localhost:8080/"
        },
        "id": "svgmki6SAx6o",
        "outputId": "55bcd2b6-efd5-4af6-cfa0-2aa74e827f40"
      },
      "execution_count": 29,
      "outputs": [
        {
          "output_type": "execute_result",
          "data": {
            "text/plain": [
              "tensor([0, 1, 2, 3, 4, 5, 6, 7, 8, 9])"
            ]
          },
          "metadata": {},
          "execution_count": 29
        }
      ]
    },
    {
      "cell_type": "code",
      "source": [
        "tensor_new_2=tensor_new_2*3\n",
        "tensor_new_2"
      ],
      "metadata": {
        "colab": {
          "base_uri": "https://localhost:8080/"
        },
        "id": "5HvzQWxjBSAF",
        "outputId": "4c0aa46a-936b-4f14-83b7-31b67e308581"
      },
      "execution_count": 34,
      "outputs": [
        {
          "output_type": "execute_result",
          "data": {
            "text/plain": [
              "tensor([18, 27, 36, 45, 54, 63, 72, 81, 90, 99])"
            ]
          },
          "metadata": {},
          "execution_count": 34
        }
      ]
    },
    {
      "cell_type": "code",
      "source": [
        "tensor_new_1=tensor_new_1+1\n",
        "tensor_new_1"
      ],
      "metadata": {
        "colab": {
          "base_uri": "https://localhost:8080/"
        },
        "id": "7OIZ1WtZBT0b",
        "outputId": "3c9f50c3-4af1-4147-c8fe-a4254ff686f3"
      },
      "execution_count": 35,
      "outputs": [
        {
          "output_type": "execute_result",
          "data": {
            "text/plain": [
              "tensor([ 1,  2,  3,  4,  5,  6,  7,  8,  9, 10])"
            ]
          },
          "metadata": {},
          "execution_count": 35
        }
      ]
    },
    {
      "cell_type": "code",
      "source": [
        "torch.remainder(tensor_new_2,tensor_new_1)"
      ],
      "metadata": {
        "colab": {
          "base_uri": "https://localhost:8080/"
        },
        "id": "aVv4BUjFBnJe",
        "outputId": "debea6f5-aea1-4761-ab18-5d404b39dc09"
      },
      "execution_count": 37,
      "outputs": [
        {
          "output_type": "execute_result",
          "data": {
            "text/plain": [
              "tensor([0, 1, 0, 1, 4, 3, 2, 1, 0, 9])"
            ]
          },
          "metadata": {},
          "execution_count": 37
        }
      ]
    },
    {
      "cell_type": "code",
      "source": [
        "#LONGHAND or power operations like cube square root\n",
        "torch.pow(tensor_new_2,tensor_new_1)"
      ],
      "metadata": {
        "colab": {
          "base_uri": "https://localhost:8080/"
        },
        "id": "AeJXt81sBsMq",
        "outputId": "02893a9b-fd4c-4188-a911-d4f8b5f7cb78"
      },
      "execution_count": 38,
      "outputs": [
        {
          "output_type": "execute_result",
          "data": {
            "text/plain": [
              "tensor([                  18,                  729,                46656,\n",
              "                     4100625,            459165024,          62523502209,\n",
              "              10030613004288,     1853020188851841,   387420489000000000,\n",
              "        -1795512867667309079])"
            ]
          },
          "metadata": {},
          "execution_count": 38
        }
      ]
    },
    {
      "cell_type": "code",
      "source": [
        "tensor_new_2**tensor_new_1"
      ],
      "metadata": {
        "colab": {
          "base_uri": "https://localhost:8080/"
        },
        "id": "33ZLSaDhDLlJ",
        "outputId": "ca80cd1e-a690-496a-d0fc-96758f451572"
      },
      "execution_count": 39,
      "outputs": [
        {
          "output_type": "execute_result",
          "data": {
            "text/plain": [
              "tensor([                  18,                  729,                46656,\n",
              "                     4100625,            459165024,          62523502209,\n",
              "              10030613004288,     1853020188851841,   387420489000000000,\n",
              "        -1795512867667309079])"
            ]
          },
          "metadata": {},
          "execution_count": 39
        }
      ]
    },
    {
      "cell_type": "code",
      "source": [
        "#LONGHAND for addition\n",
        "tensor_new_2.add(tensor_new_1)"
      ],
      "metadata": {
        "colab": {
          "base_uri": "https://localhost:8080/"
        },
        "id": "KuVl52GSEk3H",
        "outputId": "c05cfcc7-9aec-4f71-8be9-84a2096a5a81"
      },
      "execution_count": 41,
      "outputs": [
        {
          "output_type": "execute_result",
          "data": {
            "text/plain": [
              "tensor([ 19,  29,  39,  49,  59,  69,  79,  89,  99, 109])"
            ]
          },
          "metadata": {},
          "execution_count": 41
        }
      ]
    },
    {
      "cell_type": "code",
      "source": [
        "#LONGHAND for subtraction\n",
        "tensor_new_2.sub(tensor_new_1)"
      ],
      "metadata": {
        "colab": {
          "base_uri": "https://localhost:8080/"
        },
        "id": "X73ZmSyVEkde",
        "outputId": "045874a4-890a-4c56-94ab-76dad5d381c1"
      },
      "execution_count": 42,
      "outputs": [
        {
          "output_type": "execute_result",
          "data": {
            "text/plain": [
              "tensor([17, 25, 33, 41, 49, 57, 65, 73, 81, 89])"
            ]
          },
          "metadata": {},
          "execution_count": 42
        }
      ]
    },
    {
      "cell_type": "code",
      "source": [
        "#LONGHAND for multiplication\n",
        "tensor_new_2.mul(tensor_new_1)"
      ],
      "metadata": {
        "colab": {
          "base_uri": "https://localhost:8080/"
        },
        "id": "N9x-X9f9EkZ4",
        "outputId": "721e5879-f4fc-4b8c-ca4f-93e3004e897d"
      },
      "execution_count": 43,
      "outputs": [
        {
          "output_type": "execute_result",
          "data": {
            "text/plain": [
              "tensor([ 18,  54, 108, 180, 270, 378, 504, 648, 810, 990])"
            ]
          },
          "metadata": {},
          "execution_count": 43
        }
      ]
    },
    {
      "cell_type": "code",
      "source": [
        "#LONGHAND for division\n",
        "tensor_new_2.div(tensor_new_1)"
      ],
      "metadata": {
        "colab": {
          "base_uri": "https://localhost:8080/"
        },
        "id": "TfTNaoy9EkQH",
        "outputId": "160bf7ec-8c13-4d24-dc97-487d9c0183bd"
      },
      "execution_count": 44,
      "outputs": [
        {
          "output_type": "execute_result",
          "data": {
            "text/plain": [
              "tensor([18.0000, 13.5000, 12.0000, 11.2500, 10.8000, 10.5000, 10.2857, 10.1250,\n",
              "        10.0000,  9.9000])"
            ]
          },
          "metadata": {},
          "execution_count": 44
        }
      ]
    },
    {
      "cell_type": "code",
      "source": [
        "#LONGHAND or power operations like cube square root\n",
        "tensor_new_2.pow(tensor_new_1)"
      ],
      "metadata": {
        "colab": {
          "base_uri": "https://localhost:8080/"
        },
        "id": "IfyGULggDQiq",
        "outputId": "fd3ea520-24eb-4261-95ea-7c525c4a0395"
      },
      "execution_count": 40,
      "outputs": [
        {
          "output_type": "execute_result",
          "data": {
            "text/plain": [
              "tensor([                  18,                  729,                46656,\n",
              "                     4100625,            459165024,          62523502209,\n",
              "              10030613004288,     1853020188851841,   387420489000000000,\n",
              "        -1795512867667309079])"
            ]
          },
          "metadata": {},
          "execution_count": 40
        }
      ]
    },
    {
      "cell_type": "code",
      "source": [
        "#LONGHAND for division\n",
        "tensor_new_2.remainder(tensor_new_1)"
      ],
      "metadata": {
        "colab": {
          "base_uri": "https://localhost:8080/"
        },
        "id": "uGuntGgoEhg3",
        "outputId": "e6623165-4f48-4336-d6bc-b62af255c11d"
      },
      "execution_count": 45,
      "outputs": [
        {
          "output_type": "execute_result",
          "data": {
            "text/plain": [
              "tensor([0, 1, 0, 1, 4, 3, 2, 1, 0, 9])"
            ]
          },
          "metadata": {},
          "execution_count": 45
        }
      ]
    },
    {
      "cell_type": "markdown",
      "source": [
        "**REASSIGNMENT OF TENSORS**\n",
        "\n",
        "Lets say there are two tensors a and b which has to be put through a mathematical operation and save the resulting values to tensor a ;\n",
        " * This situation is called re-assigning values  \n",
        " * This can be achieved by adding a nderscore to longhand functions in pytorch\n",
        "\n",
        "For eg: tensor_a.add_(tensor_b)\n",
        "* tensor_a.sub_(tensor_b)\n",
        "* tensor_a.mul_(tensor_b)\n",
        "* tensor_a.div_(tensor_b)\n",
        "* tensor_a.remainder_(tensor_b)\n"
      ],
      "metadata": {
        "id": "74RUavenFdYI"
      }
    },
    {
      "cell_type": "code",
      "source": [
        "tensor_a=torch.arange(10)\n",
        "tensor_a"
      ],
      "metadata": {
        "colab": {
          "base_uri": "https://localhost:8080/"
        },
        "id": "LJXloE_fH5xo",
        "outputId": "3301328d-dc47-4445-f95b-7e58ca774f3e"
      },
      "execution_count": 46,
      "outputs": [
        {
          "output_type": "execute_result",
          "data": {
            "text/plain": [
              "tensor([0, 1, 2, 3, 4, 5, 6, 7, 8, 9])"
            ]
          },
          "metadata": {},
          "execution_count": 46
        }
      ]
    },
    {
      "cell_type": "code",
      "source": [
        "tensor_b=torch.arange(10)\n",
        "tensor_b=tensor_b+1\n",
        "tensor_b"
      ],
      "metadata": {
        "colab": {
          "base_uri": "https://localhost:8080/"
        },
        "id": "mii77uSLH5uS",
        "outputId": "d4c17f81-d543-44d6-80a5-ae686225309b"
      },
      "execution_count": 47,
      "outputs": [
        {
          "output_type": "execute_result",
          "data": {
            "text/plain": [
              "tensor([ 1,  2,  3,  4,  5,  6,  7,  8,  9, 10])"
            ]
          },
          "metadata": {},
          "execution_count": 47
        }
      ]
    },
    {
      "cell_type": "code",
      "source": [
        "tensor_a.add_(tensor_b)"
      ],
      "metadata": {
        "colab": {
          "base_uri": "https://localhost:8080/"
        },
        "id": "guoqfXknH5rZ",
        "outputId": "b6c69e2b-17d7-4071-b402-95183174c4eb"
      },
      "execution_count": 48,
      "outputs": [
        {
          "output_type": "execute_result",
          "data": {
            "text/plain": [
              "tensor([ 1,  3,  5,  7,  9, 11, 13, 15, 17, 19])"
            ]
          },
          "metadata": {},
          "execution_count": 48
        }
      ]
    },
    {
      "cell_type": "code",
      "source": [
        "tensor_a"
      ],
      "metadata": {
        "colab": {
          "base_uri": "https://localhost:8080/"
        },
        "id": "zbyiHRn2H5ol",
        "outputId": "78857b17-670f-44e7-9c6c-b07f9fda35a4"
      },
      "execution_count": 49,
      "outputs": [
        {
          "output_type": "execute_result",
          "data": {
            "text/plain": [
              "tensor([ 1,  3,  5,  7,  9, 11, 13, 15, 17, 19])"
            ]
          },
          "metadata": {},
          "execution_count": 49
        }
      ]
    },
    {
      "cell_type": "code",
      "source": [
        "tensor_a.sub_(tensor_b)"
      ],
      "metadata": {
        "colab": {
          "base_uri": "https://localhost:8080/"
        },
        "id": "abBawmoFH5lq",
        "outputId": "a3428ab5-b6ff-4232-acc8-082d7c620cf7"
      },
      "execution_count": 50,
      "outputs": [
        {
          "output_type": "execute_result",
          "data": {
            "text/plain": [
              "tensor([0, 1, 2, 3, 4, 5, 6, 7, 8, 9])"
            ]
          },
          "metadata": {},
          "execution_count": 50
        }
      ]
    },
    {
      "cell_type": "code",
      "source": [
        "tensor_a.mul_(tensor_b)"
      ],
      "metadata": {
        "colab": {
          "base_uri": "https://localhost:8080/"
        },
        "id": "fy_7WeiyH5io",
        "outputId": "df035de2-0881-43d6-bba0-7cb9c4ed8df1"
      },
      "execution_count": 51,
      "outputs": [
        {
          "output_type": "execute_result",
          "data": {
            "text/plain": [
              "tensor([ 0,  2,  6, 12, 20, 30, 42, 56, 72, 90])"
            ]
          },
          "metadata": {},
          "execution_count": 51
        }
      ]
    },
    {
      "cell_type": "code",
      "source": [
        "tensor_a"
      ],
      "metadata": {
        "colab": {
          "base_uri": "https://localhost:8080/"
        },
        "id": "jXFiHjdmIh8f",
        "outputId": "3d4dcee2-ad19-4c8c-d73a-268da026b4f6"
      },
      "execution_count": 52,
      "outputs": [
        {
          "output_type": "execute_result",
          "data": {
            "text/plain": [
              "tensor([ 0,  2,  6, 12, 20, 30, 42, 56, 72, 90])"
            ]
          },
          "metadata": {},
          "execution_count": 52
        }
      ]
    },
    {
      "cell_type": "code",
      "source": [
        "tensor_a.remainder_(tensor_b)"
      ],
      "metadata": {
        "colab": {
          "base_uri": "https://localhost:8080/"
        },
        "id": "bb0xaoXOIh_U",
        "outputId": "f874e2ee-7088-47f5-bd45-e4c82ce7c098"
      },
      "execution_count": 54,
      "outputs": [
        {
          "output_type": "execute_result",
          "data": {
            "text/plain": [
              "tensor([0, 0, 0, 0, 0, 0, 0, 0, 0, 0])"
            ]
          },
          "metadata": {},
          "execution_count": 54
        }
      ]
    },
    {
      "cell_type": "code",
      "source": [
        "tensor_b.div_(tensor_a)"
      ],
      "metadata": {
        "colab": {
          "base_uri": "https://localhost:8080/",
          "height": 175
        },
        "id": "FyTpykHIIiCB",
        "outputId": "776065ce-d263-4756-da40-80e5f1069021"
      },
      "execution_count": 57,
      "outputs": [
        {
          "output_type": "error",
          "ename": "RuntimeError",
          "evalue": "ignored",
          "traceback": [
            "\u001b[0;31m---------------------------------------------------------------------------\u001b[0m",
            "\u001b[0;31mRuntimeError\u001b[0m                              Traceback (most recent call last)",
            "\u001b[0;32m<ipython-input-57-62d5fd5f496f>\u001b[0m in \u001b[0;36m<cell line: 1>\u001b[0;34m()\u001b[0m\n\u001b[0;32m----> 1\u001b[0;31m \u001b[0mtensor_b\u001b[0m\u001b[0;34m.\u001b[0m\u001b[0mdiv_\u001b[0m\u001b[0;34m(\u001b[0m\u001b[0mtensor_a\u001b[0m\u001b[0;34m)\u001b[0m\u001b[0;34m\u001b[0m\u001b[0;34m\u001b[0m\u001b[0m\n\u001b[0m",
            "\u001b[0;31mRuntimeError\u001b[0m: result type Float can't be cast to the desired output type Long"
          ]
        }
      ]
    },
    {
      "cell_type": "code",
      "source": [],
      "metadata": {
        "id": "xAWOsFhpIiFG"
      },
      "execution_count": null,
      "outputs": []
    },
    {
      "cell_type": "code",
      "source": [],
      "metadata": {
        "id": "Zl2780E9IiIi"
      },
      "execution_count": null,
      "outputs": []
    },
    {
      "cell_type": "code",
      "source": [
        "#LONGHAND for division\n",
        "tensor_new_2.remainder(tensor_new_1)"
      ],
      "metadata": {
        "id": "oDUhx0fzG5Lq"
      },
      "execution_count": null,
      "outputs": []
    }
  ]
}